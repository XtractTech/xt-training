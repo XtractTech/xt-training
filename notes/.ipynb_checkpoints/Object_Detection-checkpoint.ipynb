{
 "cells": [
  {
   "cell_type": "code",
   "execution_count": null,
   "metadata": {},
   "outputs": [],
   "source": [
    "cd ../../msg"
   ]
  },
  {
   "cell_type": "code",
   "execution_count": null,
   "metadata": {},
   "outputs": [],
   "source": [
    "import copy\n",
    "\n",
    "import numpy as np\n",
    "from torch import nn\n",
    "from torch.utils.data import DataLoader, Subset\n",
    "from torchvision import transforms\n",
    "from xt_training import metrics\n",
    "from xt_training.utils import DummyOptimizer, SKDataset, SKInterface, functional\n",
    "\n",
    "from utils import transforms as xt_transforms"
   ]
  },
  {
   "cell_type": "markdown",
   "metadata": {},
   "source": [
    "### Transforms"
   ]
  },
  {
   "cell_type": "code",
   "execution_count": null,
   "metadata": {},
   "outputs": [],
   "source": [
    "preprocessing_transforms = transforms.Compose([\n",
    "    RandomHorizontalFlip(p=0.5)\n",
    "])\n",
    "\n",
    "train_transforms = transforms.Compose([\n",
    "    preprocessing_transforms,\n",
    "    np.ravel,\n",
    "    transforms.ToTensor(),\n",
    "])\n",
    "\n",
    "val_transforms = train_transforms "
   ]
  },
  {
   "cell_type": "markdown",
   "metadata": {},
   "source": [
    "### Dataset"
   ]
  },
  {
   "cell_type": "code",
   "execution_count": null,
   "metadata": {},
   "outputs": [],
   "source": [
    "dataset = BlackTuskDataset(\n",
    "    root=[\n",
    "        base_dir + 'location-2/train-matrix-v16.van.medium_random',\n",
    "    ],\n",
    "    transform=train_transforms,\n",
    "    target_dict=target_dict,\n",
    "    path_exclude=path_exclude,\n",
    ")\n",
    "\n",
    "train_inds, val_inds = split_samples(dataset.filepaths, 0.95)\n",
    "train_dataset = Subset(dataset, train_inds)\n",
    "val_dataset = Subset(copy.deepcopy(dataset), val_inds)\n",
    "val_dataset.dataset.transform = val_transforms\n",
    "\n",
    "train_dataset = SKDataset(train_dataset)\n",
    "val_dataset =  SKDataset(val_dataset)\n",
    "\n",
    "test_datasets = {\n",
    "    'test': SKDataset(BlackTuskDataset(\n",
    "        root=[\n",
    "            base_dir + 'location-1/train-matrix-v16.van.medium_random',\n",
    "        ],\n",
    "        transform=train_transforms,\n",
    "        target_dict=target_dict,\n",
    "        path_exclude=path_exclude,\n",
    "    ))\n",
    "}"
   ]
  },
  {
   "cell_type": "markdown",
   "metadata": {},
   "source": [
    "### Dataloaders"
   ]
  },
  {
   "cell_type": "code",
   "execution_count": null,
   "metadata": {},
   "outputs": [],
   "source": [
    "batch_size = 1000000\n",
    "num_workers = 4\n",
    "train_loader = DataLoader(\n",
    "    train_dataset,\n",
    "    batch_size=batch_size,\n",
    "    num_workers=num_workers,\n",
    ")\n",
    "val_loader = DataLoader(\n",
    "    val_dataset,\n",
    "    batch_size=batch_size,\n",
    "    num_workers=num_workers\n",
    ")\n",
    "\n",
    "test_loaders = {}\n",
    "for ds_name, ds in test_datasets.items():\n",
    "    test_loaders[ds_name] = DataLoader(\n",
    "        ds,\n",
    "        batch_size=batch_size,\n",
    "        num_workers=num_workers,\n",
    "    )"
   ]
  },
  {
   "cell_type": "markdown",
   "metadata": {},
   "source": [
    "### Model & Optimizer"
   ]
  },
  {
   "cell_type": "code",
   "execution_count": null,
   "metadata": {},
   "outputs": [],
   "source": [
    "model = SKInterface(\n",
    "    base_model=RandomForestRegressor(),\n",
    "    output_dim=1\n",
    ")\n",
    "\n",
    "optimizer = DummyOptimizer()"
   ]
  },
  {
   "cell_type": "markdown",
   "metadata": {},
   "source": [
    "### Model Training"
   ]
  },
  {
   "cell_type": "code",
   "execution_count": null,
   "metadata": {},
   "outputs": [],
   "source": [
    "save_dir = 'checkpoints/v2/blacktusk_demo/'\n",
    "\n",
    "stats, matrix = functional.train(\n",
    "    save_dir=save_dir,\n",
    "    train_loader=train_loader,\n",
    "    model=model,\n",
    "    optimizer=optimizer,\n",
    "    epochs=epochs,\n",
    "    loss_fn=loss_fn,\n",
    "    overwrite=True,\n",
    "    val_loader=val_loader,\n",
    "    test_loaders=test_loaders,\n",
    "    eval_metrics=eval_metrics,\n",
    "    on_exit=default_train_exit\n",
    ")"
   ]
  }
 ],
 "metadata": {
  "kernelspec": {
   "display_name": "Python 3",
   "language": "python",
   "name": "python3"
  },
  "language_info": {
   "codemirror_mode": {
    "name": "ipython",
    "version": 3
   },
   "file_extension": ".py",
   "mimetype": "text/x-python",
   "name": "python",
   "nbconvert_exporter": "python",
   "pygments_lexer": "ipython3",
   "version": "3.7.7"
  }
 },
 "nbformat": 4,
 "nbformat_minor": 2
}
