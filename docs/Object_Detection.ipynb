{
 "cells": [
  {
   "cell_type": "markdown",
   "metadata": {},
   "source": [
    "# Object Detection with xt-training"
   ]
  },
  {
   "cell_type": "markdown",
   "metadata": {},
   "source": [
    "## Notebook Purpose"
   ]
  },
  {
   "cell_type": "markdown",
   "metadata": {},
   "source": [
    "The notebook serves as a tutorial for using xt-training for the purpose of <b>Object Detection</b>. To help highlight some of the advantages offered by xt-training vs. native Pytorch, we will implement an existing Pytorch tutorial using xt-training. The tutorial can be found [here](https://pytorch.org/tutorials/intermediate/torchvision_tutorial.html). It is recommended that the user read through the tutorial prior to working through this notebook.\n",
    "\n",
    "Additional Prerequisites.\n",
    "* This tutorial assumes the basics of the Pytorch ML framework are understood by the user\n",
    "    * please see [here](https://pytorch.org/tutorials/beginner/basics/intro.html) if you need a refresher\n",
    "* It is helpful to have at least read through the xt-training \"getting started\" page [here](https://xt-training.readthedocs.io/en/latest/getting-started/)"
   ]
  },
  {
   "cell_type": "markdown",
   "metadata": {},
   "source": [
    "We will be highlighting both the Functional and Runner xt-training APIs, which each provide different levels of granularity for managing your model training pipeline."
   ]
  },
  {
   "cell_type": "markdown",
   "metadata": {},
   "source": [
    "## Preparing the Datasets/Dataloaders\n",
    "Prior to implementing the xt-training library for model training, we will need prepare our datasets/dataloaders."
   ]
  },
  {
   "cell_type": "code",
   "execution_count": 1,
   "metadata": {},
   "outputs": [],
   "source": [
    "import os\n",
    "\n",
    "import numpy as np\n",
    "import torch\n",
    "import torchvision\n",
    "from PIL import Image\n",
    "from torch import nn\n",
    "from torch.utils.data import DataLoader, Subset\n",
    "from torchvision import transforms\n",
    "from torchvision.models.detection.faster_rcnn import FastRCNNPredictor\n",
    "\n",
    "from xt_training import metrics\n",
    "from xt_training.utils import SKDataset, ODInterface, functional"
   ]
  },
  {
   "cell_type": "markdown",
   "metadata": {},
   "source": [
    "Let’s write a `torch.utils.data.Dataset` class for the [PennFudan](https://www.cis.upenn.edu/~jshi/ped_html/) dataset we use. The data can be downloaded [here](https://www.cis.upenn.edu/~jshi/ped_html/PennFudanPed.zip)."
   ]
  },
  {
   "cell_type": "code",
   "execution_count": 2,
   "metadata": {},
   "outputs": [],
   "source": [
    "class RCNNDataset(object):\n",
    "    def __init__(self, root, transforms):\n",
    "        self.root = root\n",
    "        self.transforms = transforms\n",
    "        # load all image files, sorting them to\n",
    "        # ensure that they are aligned\n",
    "        self.imgs = list(sorted(os.listdir(os.path.join(root, \"PNGImages\"))))\n",
    "        self.masks = list(sorted(os.listdir(os.path.join(root, \"PedMasks\"))))\n",
    "\n",
    "    def __getitem__(self, idx):\n",
    "        # load images and masks\n",
    "        img_path = os.path.join(self.root, \"PNGImages\", self.imgs[idx])\n",
    "        mask_path = os.path.join(self.root, \"PedMasks\", self.masks[idx])\n",
    "        img = Image.open(img_path).convert(\"RGB\")\n",
    "        # note that we haven't converted the mask to RGB,\n",
    "        # because each color corresponds to a different instance\n",
    "        # with 0 being background\n",
    "        mask = Image.open(mask_path)\n",
    "        # convert the PIL Image into a numpy array\n",
    "        mask = np.array(mask)\n",
    "        # instances are encoded as different colors\n",
    "        obj_ids = np.unique(mask)\n",
    "        # first id is the background, so remove it\n",
    "        obj_ids = obj_ids[1:]\n",
    "\n",
    "        # split the color-encoded mask into a set\n",
    "        # of binary masks\n",
    "        masks = mask == obj_ids[:, None, None]\n",
    "\n",
    "        # get bounding box coordinates for each mask\n",
    "        num_objs = len(obj_ids)\n",
    "        boxes = []\n",
    "        for i in range(num_objs):\n",
    "            pos = np.where(masks[i])\n",
    "            xmin = np.min(pos[1])\n",
    "            xmax = np.max(pos[1])\n",
    "            ymin = np.min(pos[0])\n",
    "            ymax = np.max(pos[0])\n",
    "            boxes.append([xmin, ymin, xmax, ymax])\n",
    "\n",
    "        # convert everything into a torch.Tensor\n",
    "        boxes = torch.as_tensor(boxes, dtype=torch.float32)\n",
    "        # there is only one class\n",
    "        labels = torch.ones((num_objs,), dtype=torch.int64)\n",
    "        masks = torch.as_tensor(masks, dtype=torch.uint8)\n",
    "\n",
    "        image_id = torch.tensor([idx])\n",
    "        area = (boxes[:, 3] - boxes[:, 1]) * (boxes[:, 2] - boxes[:, 0])\n",
    "        # suppose all instances are not crowd\n",
    "        iscrowd = torch.zeros((num_objs,), dtype=torch.int64)\n",
    "\n",
    "        target = {}\n",
    "        target[\"boxes\"] = boxes\n",
    "        target[\"labels\"] = labels\n",
    "        target[\"masks\"] = masks\n",
    "        target[\"image_id\"] = image_id\n",
    "        target[\"area\"] = area\n",
    "        target[\"iscrowd\"] = iscrowd\n",
    "\n",
    "        if self.transforms is not None:\n",
    "            img = self.transforms(img)\n",
    "\n",
    "        return img, target\n",
    "\n",
    "    def __len__(self):\n",
    "        return len(self.imgs)"
   ]
  },
  {
   "cell_type": "code",
   "execution_count": 3,
   "metadata": {},
   "outputs": [],
   "source": [
    "# our dataset has two classes only - background and person\n",
    "num_classes = 2\n",
    "\n",
    "# use our dataset and defined transformations\n",
    "dataset = RCNNDataset(\n",
    "    root='path/to/PennFudanPed/', \n",
    "    transforms=transforms.Compose([\n",
    "        transforms.RandomHorizontalFlip(p=0.5),\n",
    "        transforms.ToTensor()\n",
    "    ])\n",
    ")\n",
    "test_ds = RCNNDataset(\n",
    "    root='path/to/PennFudanPed/', \n",
    "    transforms=transforms.ToTensor()\n",
    ")\n",
    "\n",
    "# split the dataset in train, valid, and test set\n",
    "indices = torch.randperm(len(dataset)).tolist()\n",
    "train_ds = torch.utils.data.Subset(dataset, indices[:100])\n",
    "valid_ds = torch.utils.data.Subset(dataset, indices[100:120])\n",
    "test_ds = torch.utils.data.Subset(test_ds, indices[-50:])"
   ]
  },
  {
   "cell_type": "markdown",
   "metadata": {},
   "source": [
    "In the dataset, label `y` is a dictionary whose values are converted to PyTorch Tensor with the `transforms`. For example, if there are 3 groudtruths in an image, `y['boxes']` should be a Tensor with size `(3, 4)`.\n",
    "\n",
    "During the enumeration of dataloaders with such labels, an additional batch-dimension will be added to each tensor value. The above-mentioned `y['boxes']` would become a Tensor with size `(1, 3, 4)`. This is not the expected working way of batches and hence causes training errors.\n",
    "\n",
    "We solve this problem using `collate_fn` to collate samples into correct batches."
   ]
  },
  {
   "cell_type": "code",
   "execution_count": 4,
   "metadata": {},
   "outputs": [],
   "source": [
    "def collate_fn(data):\n",
    "    xs = []\n",
    "    ys = []\n",
    "    for data_i in data:\n",
    "        (images, targets), targets = data_i\n",
    "        xs.append(images)\n",
    "        ys.append(targets)\n",
    "    return (xs, ys), ys"
   ]
  },
  {
   "cell_type": "code",
   "execution_count": 5,
   "metadata": {
    "scrolled": true
   },
   "outputs": [],
   "source": [
    "train_loader = DataLoader(\n",
    "    SKDataset(train_ds), \n",
    "    batch_size=1,\n",
    "    shuffle=True, \n",
    "    collate_fn=collate_fn\n",
    ")\n",
    "\n",
    "valid_loader = DataLoader(\n",
    "    SKDataset(valid_ds), \n",
    "    batch_size=1, \n",
    "    shuffle=True, \n",
    "    collate_fn=collate_fn\n",
    ")\n",
    "\n",
    "test_loaders = {}\n",
    "test_loaders['test'] = DataLoader(\n",
    "    SKDataset(test_ds), \n",
    "    batch_size=1, \n",
    "    shuffle=False, \n",
    "    collate_fn=collate_fn\n",
    ")"
   ]
  },
  {
   "cell_type": "markdown",
   "metadata": {},
   "source": [
    "## Defining our Model & Optimizer\n",
    "To have a straight forward example of xt-training, we will use a pre-trained model and just finetune the last layer."
   ]
  },
  {
   "cell_type": "code",
   "execution_count": 6,
   "metadata": {},
   "outputs": [],
   "source": [
    "# load a model pre-trained on COCO\n",
    "base_model = torchvision.models.detection.fasterrcnn_resnet50_fpn(pretrained=True)\n",
    "\n",
    "# replace the classifier with a new one, that has num_classes which is user-defined\n",
    "num_classes = 2  # 1 class (person) + background\n",
    "\n",
    "# get number of input features for the classifier\n",
    "in_features = base_model.roi_heads.box_predictor.cls_score.in_features\n",
    "\n",
    "# replace the pre-trained head with a new one\n",
    "base_model.roi_heads.box_predictor = FastRCNNPredictor(in_features, num_classes)\n",
    "\n",
    "# return both loss and detections nomatter in training or evaluation mode,\n",
    "# so we can use xt-training metrics\n",
    "base_model.eager_outputs = lambda l, d: (l, d)\n",
    "\n",
    "# Wrap the model with the object detection wrapper\n",
    "model = ODInterface(\n",
    "    base_model=base_model,\n",
    "    device='cuda:0'\n",
    ")"
   ]
  },
  {
   "cell_type": "markdown",
   "metadata": {},
   "source": [
    "During training, the model returns 4 kinds of losses: `loss_classifier`, `loss_box_reg`, `loss_mask`, and `loss_keypoint`, but return no predictions. And during validation (`model.training==False`), the model only returns the prediction and no loss.\n",
    "\n",
    "The following ODHandler simply add the value of the 4 losses together as an indication during training."
   ]
  },
  {
   "cell_type": "code",
   "execution_count": 7,
   "metadata": {},
   "outputs": [],
   "source": [
    "class ODHandler:\n",
    "    def __init__(self, callable, default=None):\n",
    "        self.fn = callable\n",
    "        self.default = default\n",
    "    def __call__(self, inputs, y):\n",
    "#         try:\n",
    "#             return self.fn(inputs, y)\n",
    "#         except:\n",
    "#             print(\"returning default\")\n",
    "#             return self.default\n",
    "        if y:\n",
    "            return self.fn(inputs, y)\n",
    "        return self.default"
   ]
  },
  {
   "cell_type": "code",
   "execution_count": 8,
   "metadata": {},
   "outputs": [],
   "source": [
    "fn = lambda y_pred, loss: sum(l for l in loss.values())\n",
    "loss_fn = ODHandler(fn, torch.as_tensor(0))"
   ]
  },
  {
   "cell_type": "markdown",
   "metadata": {},
   "source": [
    "## A Note on Device Management\n",
    "\n",
    "Typically we would need to move the instantiated model to the GPU explicitly, if that's the resource we want to use (the same goes for our train/test data); however, xt-training's Functional API handles all of the device management for us and assumes we want to be running on a GPU, if available."
   ]
  },
  {
   "cell_type": "code",
   "execution_count": 9,
   "metadata": {},
   "outputs": [],
   "source": [
    "# # move model to the right device (already implemented in xt-training)\n",
    "# model.to(device)\n",
    "\n",
    "# construct an optimizer\n",
    "params = [p for p in model.parameters() if p.requires_grad]\n",
    "optimizer = torch.optim.SGD(params, lr=0.005, momentum=0.9, weight_decay=0.0005)\n",
    "# and a learning rate scheduler\n",
    "lr_scheduler = torch.optim.lr_scheduler.StepLR(optimizer, step_size=3, gamma=0.1)"
   ]
  },
  {
   "cell_type": "markdown",
   "metadata": {},
   "source": [
    "## xt-training Metrics\n",
    "Xt-training makes it easy to configure a variety of metrics to keep track of during training. Note that the suite of metrics offered also includes measurements of training time (e.g. Examples per Second) and GPU Utilization and Memory.\n",
    "\n",
    "\n",
    "We will review how these metrics are reported once we start training the model."
   ]
  },
  {
   "cell_type": "code",
   "execution_count": 10,
   "metadata": {},
   "outputs": [],
   "source": [
    "# For the PennFudan dataset, class 0 is background and class 1 is person, \n",
    "# and since we only detect person in the image, ap_0 should always be 0.\n",
    "eval_metrics={\n",
    "        'eps': metrics.EPS(),\n",
    "        'ap_0': metrics.AveragePrecision(cls=0, iouthreshold=0.7),\n",
    "        'ap_1': metrics.AveragePrecision(cls=1, iouthreshold=0.7)\n",
    "    }"
   ]
  },
  {
   "cell_type": "markdown",
   "metadata": {},
   "source": [
    "## Model Training with the Functional API\n",
    "Now we are ready to start training our model with xt-training's functional API. Let's take a look at the functions arguments first."
   ]
  },
  {
   "cell_type": "code",
   "execution_count": 11,
   "metadata": {},
   "outputs": [],
   "source": [
    "functional.train?"
   ]
  },
  {
   "cell_type": "markdown",
   "metadata": {},
   "source": [
    "We will not go into detail on all of the arguments, but the user is encouraged to explore them further.\n",
    "\n",
    "The xt-trainer functional training API provides the following non-exaustive list of benefits for the user:\n",
    "* It handles the\n",
    "    * training loop for us - i.e. we won't need to write code to handle the loop ourselves.\n",
    "    * saving both the 'best' and 'latest' model checkpoints based on validation loss (or training loss if no validation dataloader is provided)\n",
    "    * calculating and aggregating a variety of (user configurable) metrics over batches\n",
    "* In summary, it abstracts away a lot of boiler plate code, allowing ML Engineers and Data Scientists to focus on training models\n",
    "* It aims to be agnostic of any specific deep learning task and therefore is useful for a variety of domains including computer vision, nlp, and even reinforement learning.\n",
    "\n",
    "For a more complete understanding of the benefits of using xt-training, please see [here](https://xt-training.readthedocs.io/en/latest/basis/)\n"
   ]
  },
  {
   "cell_type": "code",
   "execution_count": 12,
   "metadata": {
    "scrolled": false
   },
   "outputs": [
    {
     "name": "stdout",
     "output_type": "stream",
     "text": [
      "Running on device: cuda:0\n",
      "\n",
      "\n",
      "Initial\n",
      "----------\n",
      "test     |    50/50   | loss:    0.0000 | eps:    4.7944 | ap_0:    0.0000 | ap_1:    0.0000   \n",
      "valid    |    20/20   | loss:    0.0000 | eps:    4.9125 | ap_0:    0.0000 | ap_1:    0.0057   \n",
      "\n",
      "Epoch 1/2\n",
      "----------\n"
     ]
    },
    {
     "name": "stderr",
     "output_type": "stream",
     "text": [
      "/home/angran/anaconda3/lib/python3.7/site-packages/torch/nn/functional.py:3103: UserWarning: The default behavior for interpolate/upsample with float scale_factor changed in 1.6.0 to align with other frameworks/libraries, and now uses scale_factor directly, instead of relying on the computed output size. If you wish to restore the old behavior, please set recompute_scale_factor=True. See the documentation of nn.Upsample for details. \n",
      "  warnings.warn(\"The default behavior for interpolate/upsample with float scale_factor changed \"\n"
     ]
    },
    {
     "name": "stdout",
     "output_type": "stream",
     "text": [
      "train    |   100/100  | loss:    0.3322 | eps:    8.1481 | ap_0:       nan | ap_1:       nan   \n",
      "valid    |    20/20   | loss:    0.0000 | eps:    9.8853 | ap_0:    0.0000 | ap_1:    0.1944   \n",
      "\n",
      "Epoch 2/2\n",
      "----------\n",
      "train    |   100/100  | loss:    0.2455 | eps:    8.0818 | ap_0:       nan | ap_1:       nan   \n",
      "valid    |    20/20   | loss:    0.0000 | eps:   11.1539 | ap_0:    0.0000 | ap_1:    1.0000   \n",
      "\n",
      "Test\n",
      "----------\n",
      "test     |    50/50   | loss:    0.0000 | eps:   11.3780 | ap_0:    0.0000 | ap_1:    1.0000   \n"
     ]
    }
   ],
   "source": [
    "save_dir = 'path/to/log/'\n",
    "\n",
    "functional.train(\n",
    "    save_dir=save_dir,\n",
    "    train_loader=train_loader,\n",
    "    model=model,\n",
    "    optimizer=optimizer,\n",
    "    epochs=2,\n",
    "    loss_fn=loss_fn,\n",
    "    overwrite=True,\n",
    "    val_loader=valid_loader,\n",
    "    test_loaders=test_loaders,\n",
    "#     device='cuda:0',\n",
    "    scheduler=lr_scheduler,\n",
    "    eval_metrics=eval_metrics,\n",
    ")"
   ]
  },
  {
   "cell_type": "markdown",
   "metadata": {},
   "source": [
    "<b> Initial Run </b>\n",
    "* The 'Initial' run is done on the test & validation dataloaders before any paramater updates are done. This is a unique feature of xt-training. This is helpful because it provides a benchmark for performance on the test dataloaders.\n",
    "* Note that this is done whether this is:\n",
    "    * a completely untrained model (with randomly initialized weights), or\n",
    "    * a model that has already been trained (pretrained or loaded from a checkpoint)\n",
    "\n",
    "<b> Metrics </b>\n",
    "* For each Epoch, we calculate the metrics for the training and validation dataloaders.\n",
    "* For the \"Initial\" run, we calculate the metrics for the test dataloaders.\n",
    "* By default, we also calculate the metrics for the test dataloaders as the final step in training, however this is configurable by the user.\n",
    "* As an Epoch is running, you'll notice the metrics continually updating. This is because they are computed as the average over the batches run so far. So, for example, as the accuracy for each batch is calculated, it is averaged over all of the batches run so far. When the epoch is completed, we have the average accuracy for the epoch.\n",
    "\n",
    "<b> Managing Model Checkpoints </b>\n",
    "* xt-training handles model saving/checkpointing for the user\n",
    "* It will always save the 'latest' checkpoint for the model after each epoch\n",
    "* It will also always save the 'best' model, based on the loss evaluated on the validation dataloader (if provided - otherwise will use the training dataloader). If there is an existing 'best' model, it will be overwritten when a better checkpoint is reached. However, since the `loss_fn` in this example simply sums up the 4 losses from the model itself, which are only available in training mode, the best checkpoint won't be updated. This is the reason we use the 'latest' model in the test process below."
   ]
  },
  {
   "cell_type": "markdown",
   "metadata": {},
   "source": [
    "<b> Saved File Types </b>\n",
    "* <b> ONNX (Open Nueral Network Exchange Format) </b>\n",
    "    * A full representation of the model. This is a useful format for deploying ML models. See [here](https://towardsdatascience.com/onnx-easily-exchange-deep-learning-models-f3c42100fd77) for some more details. \n",
    "* <b> .pt</b>\n",
    "    * This is the saved state_dict for the model which includes the learnable parameter for each of the model's layers. The state_dict is serialized using Python's pickle utility (See [here](https://pytorch.org/tutorials/beginner/saving_loading_models.html) for information about saving and loading Pytorch models)"
   ]
  },
  {
   "cell_type": "markdown",
   "metadata": {},
   "source": [
    "## Model Training with the Runner API\n",
    "Now we'd like to highlight the more granular control that can be achieved with the Runner API. Remember the Runner API handles the training of a single epoch for us - it is up to the user to define their own training loop."
   ]
  },
  {
   "cell_type": "code",
   "execution_count": 13,
   "metadata": {},
   "outputs": [
    {
     "name": "stdout",
     "output_type": "stream",
     "text": [
      "train    |   100/100  | loss:    0.2233 | eps:    8.0080 | ap_0:       nan | ap_1:       nan   \n"
     ]
    }
   ],
   "source": [
    "from xt_training import Runner\n",
    "\n",
    "device = \"cuda\" if torch.cuda.is_available() else \"cpu\"\n",
    "\n",
    "# With the Runner API, we need to explicitly manage which device our model we be located on\n",
    "model.to(device)\n",
    "\n",
    "# instantiate our Runner\n",
    "runner = Runner(\n",
    "    model=model,\n",
    "    loss_fn=loss_fn,\n",
    "    optimizer=optimizer,\n",
    "    batch_metrics=eval_metrics,\n",
    "    device=device # note that the Runner API will default to using the CPU if not specified\n",
    ")\n",
    "\n",
    "# Explicitly put into training mode. Previously the Functional API handled this for us.\n",
    "model.train()\n",
    "runner(train_loader) # train for another epoch"
   ]
  },
  {
   "cell_type": "markdown",
   "metadata": {},
   "source": [
    "Note that when we use our Runner instance as a callable to train an epoch it won't save our model for us. However, the Runner.save_model method is available to us."
   ]
  },
  {
   "cell_type": "markdown",
   "metadata": {},
   "source": [
    "## Check the Precision-Recall Curve and Compare the Detections to Groundtruth"
   ]
  },
  {
   "cell_type": "code",
   "execution_count": 14,
   "metadata": {},
   "outputs": [],
   "source": [
    "import cv2\n",
    "from collections.abc import Iterable\n",
    "from matplotlib import pyplot as plt\n",
    "\n",
    "from xt_training.od_lib.BoundingBox import BoundingBox, BoundingBoxes\n",
    "from xt_training.od_lib.Evaluator import *\n",
    "from xt_training.od_lib.utils import *"
   ]
  },
  {
   "cell_type": "code",
   "execution_count": 15,
   "metadata": {},
   "outputs": [],
   "source": [
    "def detach(y):\n",
    "    y_tmp = []\n",
    "    for y_i in y:\n",
    "        if isinstance(y_i, dict):\n",
    "            y_i = {k: v.detach().cpu().numpy() for k, v in y_i.items()}\n",
    "        y_tmp.append(y_i)\n",
    "    return y_tmp"
   ]
  },
  {
   "cell_type": "code",
   "execution_count": 16,
   "metadata": {},
   "outputs": [],
   "source": [
    "def getBoundingBoxes(y, bbType=BBType.GroundTruth):\n",
    "        # Class representing bounding boxes (ground truths and detections)\n",
    "        bbs = BoundingBoxes()\n",
    "        for i in range(len(y)):\n",
    "            y_i = y[i]\n",
    "            if y_i == None:\n",
    "                break\n",
    "            nameOfImage = f'img_{i}'\n",
    "            for k in range(y_i['boxes'].shape[0]):\n",
    "                box = y_i['boxes'][k]\n",
    "                x, y, w, h = box\n",
    "                idClass = y_i['labels'][k]\n",
    "                if bbType == BBType.Detected:\n",
    "                    confidence = y_i['scores'][k]\n",
    "                else:\n",
    "                    confidence = None\n",
    "                bb = BoundingBox(\n",
    "                    nameOfImage,\n",
    "                    idClass,\n",
    "                    x, y, w, h,\n",
    "                    bbType=bbType,\n",
    "                    classConfidence=confidence,\n",
    "                    format=BBFormat.XYWH\n",
    "                )\n",
    "                bbs.addBoundingBox(bb)\n",
    "                \n",
    "        return bbs"
   ]
  },
  {
   "cell_type": "code",
   "execution_count": 17,
   "metadata": {},
   "outputs": [],
   "source": [
    "def add_bb_into_image(image, bb, color=(255, 0, 0), thickness=2, label=None):\n",
    "    r = int(color[0])\n",
    "    g = int(color[1])\n",
    "    b = int(color[2])\n",
    "\n",
    "    font = cv2.FONT_HERSHEY_SIMPLEX\n",
    "    fontScale = 0.5\n",
    "    fontThickness = 1\n",
    "\n",
    "    x1, y1, x2, y2 = bb\n",
    "    x1 = int(x1)\n",
    "    y1 = int(y1)\n",
    "    x2 = int(x2)\n",
    "    y2 = int(y2)\n",
    "    cv2.rectangle(image, (x1, y1), (x2, y2), (b, g, r), thickness)\n",
    "    # Add label\n",
    "    if label is not None:\n",
    "        # Get size of the text box\n",
    "        (tw, th) = cv2.getTextSize(label, font, fontScale, fontThickness)[0]\n",
    "        # Top-left coord of the textbox\n",
    "        (xin_bb, yin_bb) = (x1 + thickness, y1 - th + int(12.5 * fontScale))\n",
    "        # Checking position of the text top-left (outside or inside the bb)\n",
    "        if yin_bb - th <= 0:  # if outside the image\n",
    "            yin_bb = y1 + th  # put it inside the bb\n",
    "        r_Xin = x1 - int(thickness / 2)\n",
    "        r_Yin = y1 - th - int(thickness / 2)\n",
    "        # Draw filled rectangle to put the text in it\n",
    "        cv2.rectangle(image, (r_Xin, r_Yin - thickness),\n",
    "                      (r_Xin + tw + thickness * 3, r_Yin + th + int(12.5 * fontScale)), (b, g, r),\n",
    "                      -1)\n",
    "        cv2.putText(image, label, (xin_bb, yin_bb), font, fontScale, (0, 0, 0), fontThickness,\n",
    "                    cv2.LINE_AA)\n",
    "    return image"
   ]
  },
  {
   "cell_type": "code",
   "execution_count": 18,
   "metadata": {},
   "outputs": [
    {
     "data": {
      "text/plain": [
       "ODInterface(\n",
       "  (base_model): FasterRCNN(\n",
       "    (transform): GeneralizedRCNNTransform(\n",
       "        Normalize(mean=[0.485, 0.456, 0.406], std=[0.229, 0.224, 0.225])\n",
       "        Resize(min_size=(800,), max_size=1333, mode='bilinear')\n",
       "    )\n",
       "    (backbone): BackboneWithFPN(\n",
       "      (body): IntermediateLayerGetter(\n",
       "        (conv1): Conv2d(3, 64, kernel_size=(7, 7), stride=(2, 2), padding=(3, 3), bias=False)\n",
       "        (bn1): FrozenBatchNorm2d(64)\n",
       "        (relu): ReLU(inplace=True)\n",
       "        (maxpool): MaxPool2d(kernel_size=3, stride=2, padding=1, dilation=1, ceil_mode=False)\n",
       "        (layer1): Sequential(\n",
       "          (0): Bottleneck(\n",
       "            (conv1): Conv2d(64, 64, kernel_size=(1, 1), stride=(1, 1), bias=False)\n",
       "            (bn1): FrozenBatchNorm2d(64)\n",
       "            (conv2): Conv2d(64, 64, kernel_size=(3, 3), stride=(1, 1), padding=(1, 1), bias=False)\n",
       "            (bn2): FrozenBatchNorm2d(64)\n",
       "            (conv3): Conv2d(64, 256, kernel_size=(1, 1), stride=(1, 1), bias=False)\n",
       "            (bn3): FrozenBatchNorm2d(256)\n",
       "            (relu): ReLU(inplace=True)\n",
       "            (downsample): Sequential(\n",
       "              (0): Conv2d(64, 256, kernel_size=(1, 1), stride=(1, 1), bias=False)\n",
       "              (1): FrozenBatchNorm2d(256)\n",
       "            )\n",
       "          )\n",
       "          (1): Bottleneck(\n",
       "            (conv1): Conv2d(256, 64, kernel_size=(1, 1), stride=(1, 1), bias=False)\n",
       "            (bn1): FrozenBatchNorm2d(64)\n",
       "            (conv2): Conv2d(64, 64, kernel_size=(3, 3), stride=(1, 1), padding=(1, 1), bias=False)\n",
       "            (bn2): FrozenBatchNorm2d(64)\n",
       "            (conv3): Conv2d(64, 256, kernel_size=(1, 1), stride=(1, 1), bias=False)\n",
       "            (bn3): FrozenBatchNorm2d(256)\n",
       "            (relu): ReLU(inplace=True)\n",
       "          )\n",
       "          (2): Bottleneck(\n",
       "            (conv1): Conv2d(256, 64, kernel_size=(1, 1), stride=(1, 1), bias=False)\n",
       "            (bn1): FrozenBatchNorm2d(64)\n",
       "            (conv2): Conv2d(64, 64, kernel_size=(3, 3), stride=(1, 1), padding=(1, 1), bias=False)\n",
       "            (bn2): FrozenBatchNorm2d(64)\n",
       "            (conv3): Conv2d(64, 256, kernel_size=(1, 1), stride=(1, 1), bias=False)\n",
       "            (bn3): FrozenBatchNorm2d(256)\n",
       "            (relu): ReLU(inplace=True)\n",
       "          )\n",
       "        )\n",
       "        (layer2): Sequential(\n",
       "          (0): Bottleneck(\n",
       "            (conv1): Conv2d(256, 128, kernel_size=(1, 1), stride=(1, 1), bias=False)\n",
       "            (bn1): FrozenBatchNorm2d(128)\n",
       "            (conv2): Conv2d(128, 128, kernel_size=(3, 3), stride=(2, 2), padding=(1, 1), bias=False)\n",
       "            (bn2): FrozenBatchNorm2d(128)\n",
       "            (conv3): Conv2d(128, 512, kernel_size=(1, 1), stride=(1, 1), bias=False)\n",
       "            (bn3): FrozenBatchNorm2d(512)\n",
       "            (relu): ReLU(inplace=True)\n",
       "            (downsample): Sequential(\n",
       "              (0): Conv2d(256, 512, kernel_size=(1, 1), stride=(2, 2), bias=False)\n",
       "              (1): FrozenBatchNorm2d(512)\n",
       "            )\n",
       "          )\n",
       "          (1): Bottleneck(\n",
       "            (conv1): Conv2d(512, 128, kernel_size=(1, 1), stride=(1, 1), bias=False)\n",
       "            (bn1): FrozenBatchNorm2d(128)\n",
       "            (conv2): Conv2d(128, 128, kernel_size=(3, 3), stride=(1, 1), padding=(1, 1), bias=False)\n",
       "            (bn2): FrozenBatchNorm2d(128)\n",
       "            (conv3): Conv2d(128, 512, kernel_size=(1, 1), stride=(1, 1), bias=False)\n",
       "            (bn3): FrozenBatchNorm2d(512)\n",
       "            (relu): ReLU(inplace=True)\n",
       "          )\n",
       "          (2): Bottleneck(\n",
       "            (conv1): Conv2d(512, 128, kernel_size=(1, 1), stride=(1, 1), bias=False)\n",
       "            (bn1): FrozenBatchNorm2d(128)\n",
       "            (conv2): Conv2d(128, 128, kernel_size=(3, 3), stride=(1, 1), padding=(1, 1), bias=False)\n",
       "            (bn2): FrozenBatchNorm2d(128)\n",
       "            (conv3): Conv2d(128, 512, kernel_size=(1, 1), stride=(1, 1), bias=False)\n",
       "            (bn3): FrozenBatchNorm2d(512)\n",
       "            (relu): ReLU(inplace=True)\n",
       "          )\n",
       "          (3): Bottleneck(\n",
       "            (conv1): Conv2d(512, 128, kernel_size=(1, 1), stride=(1, 1), bias=False)\n",
       "            (bn1): FrozenBatchNorm2d(128)\n",
       "            (conv2): Conv2d(128, 128, kernel_size=(3, 3), stride=(1, 1), padding=(1, 1), bias=False)\n",
       "            (bn2): FrozenBatchNorm2d(128)\n",
       "            (conv3): Conv2d(128, 512, kernel_size=(1, 1), stride=(1, 1), bias=False)\n",
       "            (bn3): FrozenBatchNorm2d(512)\n",
       "            (relu): ReLU(inplace=True)\n",
       "          )\n",
       "        )\n",
       "        (layer3): Sequential(\n",
       "          (0): Bottleneck(\n",
       "            (conv1): Conv2d(512, 256, kernel_size=(1, 1), stride=(1, 1), bias=False)\n",
       "            (bn1): FrozenBatchNorm2d(256)\n",
       "            (conv2): Conv2d(256, 256, kernel_size=(3, 3), stride=(2, 2), padding=(1, 1), bias=False)\n",
       "            (bn2): FrozenBatchNorm2d(256)\n",
       "            (conv3): Conv2d(256, 1024, kernel_size=(1, 1), stride=(1, 1), bias=False)\n",
       "            (bn3): FrozenBatchNorm2d(1024)\n",
       "            (relu): ReLU(inplace=True)\n",
       "            (downsample): Sequential(\n",
       "              (0): Conv2d(512, 1024, kernel_size=(1, 1), stride=(2, 2), bias=False)\n",
       "              (1): FrozenBatchNorm2d(1024)\n",
       "            )\n",
       "          )\n",
       "          (1): Bottleneck(\n",
       "            (conv1): Conv2d(1024, 256, kernel_size=(1, 1), stride=(1, 1), bias=False)\n",
       "            (bn1): FrozenBatchNorm2d(256)\n",
       "            (conv2): Conv2d(256, 256, kernel_size=(3, 3), stride=(1, 1), padding=(1, 1), bias=False)\n",
       "            (bn2): FrozenBatchNorm2d(256)\n",
       "            (conv3): Conv2d(256, 1024, kernel_size=(1, 1), stride=(1, 1), bias=False)\n",
       "            (bn3): FrozenBatchNorm2d(1024)\n",
       "            (relu): ReLU(inplace=True)\n",
       "          )\n",
       "          (2): Bottleneck(\n",
       "            (conv1): Conv2d(1024, 256, kernel_size=(1, 1), stride=(1, 1), bias=False)\n",
       "            (bn1): FrozenBatchNorm2d(256)\n",
       "            (conv2): Conv2d(256, 256, kernel_size=(3, 3), stride=(1, 1), padding=(1, 1), bias=False)\n",
       "            (bn2): FrozenBatchNorm2d(256)\n",
       "            (conv3): Conv2d(256, 1024, kernel_size=(1, 1), stride=(1, 1), bias=False)\n",
       "            (bn3): FrozenBatchNorm2d(1024)\n",
       "            (relu): ReLU(inplace=True)\n",
       "          )\n",
       "          (3): Bottleneck(\n",
       "            (conv1): Conv2d(1024, 256, kernel_size=(1, 1), stride=(1, 1), bias=False)\n",
       "            (bn1): FrozenBatchNorm2d(256)\n",
       "            (conv2): Conv2d(256, 256, kernel_size=(3, 3), stride=(1, 1), padding=(1, 1), bias=False)\n",
       "            (bn2): FrozenBatchNorm2d(256)\n",
       "            (conv3): Conv2d(256, 1024, kernel_size=(1, 1), stride=(1, 1), bias=False)\n",
       "            (bn3): FrozenBatchNorm2d(1024)\n",
       "            (relu): ReLU(inplace=True)\n",
       "          )\n",
       "          (4): Bottleneck(\n",
       "            (conv1): Conv2d(1024, 256, kernel_size=(1, 1), stride=(1, 1), bias=False)\n",
       "            (bn1): FrozenBatchNorm2d(256)\n",
       "            (conv2): Conv2d(256, 256, kernel_size=(3, 3), stride=(1, 1), padding=(1, 1), bias=False)\n",
       "            (bn2): FrozenBatchNorm2d(256)\n",
       "            (conv3): Conv2d(256, 1024, kernel_size=(1, 1), stride=(1, 1), bias=False)\n",
       "            (bn3): FrozenBatchNorm2d(1024)\n",
       "            (relu): ReLU(inplace=True)\n",
       "          )\n",
       "          (5): Bottleneck(\n",
       "            (conv1): Conv2d(1024, 256, kernel_size=(1, 1), stride=(1, 1), bias=False)\n",
       "            (bn1): FrozenBatchNorm2d(256)\n",
       "            (conv2): Conv2d(256, 256, kernel_size=(3, 3), stride=(1, 1), padding=(1, 1), bias=False)\n",
       "            (bn2): FrozenBatchNorm2d(256)\n",
       "            (conv3): Conv2d(256, 1024, kernel_size=(1, 1), stride=(1, 1), bias=False)\n",
       "            (bn3): FrozenBatchNorm2d(1024)\n",
       "            (relu): ReLU(inplace=True)\n",
       "          )\n",
       "        )\n",
       "        (layer4): Sequential(\n",
       "          (0): Bottleneck(\n",
       "            (conv1): Conv2d(1024, 512, kernel_size=(1, 1), stride=(1, 1), bias=False)\n",
       "            (bn1): FrozenBatchNorm2d(512)\n",
       "            (conv2): Conv2d(512, 512, kernel_size=(3, 3), stride=(2, 2), padding=(1, 1), bias=False)\n",
       "            (bn2): FrozenBatchNorm2d(512)\n",
       "            (conv3): Conv2d(512, 2048, kernel_size=(1, 1), stride=(1, 1), bias=False)\n",
       "            (bn3): FrozenBatchNorm2d(2048)\n",
       "            (relu): ReLU(inplace=True)\n",
       "            (downsample): Sequential(\n",
       "              (0): Conv2d(1024, 2048, kernel_size=(1, 1), stride=(2, 2), bias=False)\n",
       "              (1): FrozenBatchNorm2d(2048)\n",
       "            )\n",
       "          )\n",
       "          (1): Bottleneck(\n",
       "            (conv1): Conv2d(2048, 512, kernel_size=(1, 1), stride=(1, 1), bias=False)\n",
       "            (bn1): FrozenBatchNorm2d(512)\n",
       "            (conv2): Conv2d(512, 512, kernel_size=(3, 3), stride=(1, 1), padding=(1, 1), bias=False)\n",
       "            (bn2): FrozenBatchNorm2d(512)\n",
       "            (conv3): Conv2d(512, 2048, kernel_size=(1, 1), stride=(1, 1), bias=False)\n",
       "            (bn3): FrozenBatchNorm2d(2048)\n",
       "            (relu): ReLU(inplace=True)\n",
       "          )\n",
       "          (2): Bottleneck(\n",
       "            (conv1): Conv2d(2048, 512, kernel_size=(1, 1), stride=(1, 1), bias=False)\n",
       "            (bn1): FrozenBatchNorm2d(512)\n",
       "            (conv2): Conv2d(512, 512, kernel_size=(3, 3), stride=(1, 1), padding=(1, 1), bias=False)\n",
       "            (bn2): FrozenBatchNorm2d(512)\n",
       "            (conv3): Conv2d(512, 2048, kernel_size=(1, 1), stride=(1, 1), bias=False)\n",
       "            (bn3): FrozenBatchNorm2d(2048)\n",
       "            (relu): ReLU(inplace=True)\n",
       "          )\n",
       "        )\n",
       "      )\n",
       "      (fpn): FeaturePyramidNetwork(\n",
       "        (inner_blocks): ModuleList(\n",
       "          (0): Conv2d(256, 256, kernel_size=(1, 1), stride=(1, 1))\n",
       "          (1): Conv2d(512, 256, kernel_size=(1, 1), stride=(1, 1))\n",
       "          (2): Conv2d(1024, 256, kernel_size=(1, 1), stride=(1, 1))\n",
       "          (3): Conv2d(2048, 256, kernel_size=(1, 1), stride=(1, 1))\n",
       "        )\n",
       "        (layer_blocks): ModuleList(\n",
       "          (0): Conv2d(256, 256, kernel_size=(3, 3), stride=(1, 1), padding=(1, 1))\n",
       "          (1): Conv2d(256, 256, kernel_size=(3, 3), stride=(1, 1), padding=(1, 1))\n",
       "          (2): Conv2d(256, 256, kernel_size=(3, 3), stride=(1, 1), padding=(1, 1))\n",
       "          (3): Conv2d(256, 256, kernel_size=(3, 3), stride=(1, 1), padding=(1, 1))\n",
       "        )\n",
       "        (extra_blocks): LastLevelMaxPool()\n",
       "      )\n",
       "    )\n",
       "    (rpn): RegionProposalNetwork(\n",
       "      (anchor_generator): AnchorGenerator()\n",
       "      (head): RPNHead(\n",
       "        (conv): Conv2d(256, 256, kernel_size=(3, 3), stride=(1, 1), padding=(1, 1))\n",
       "        (cls_logits): Conv2d(256, 3, kernel_size=(1, 1), stride=(1, 1))\n",
       "        (bbox_pred): Conv2d(256, 12, kernel_size=(1, 1), stride=(1, 1))\n",
       "      )\n",
       "    )\n",
       "    (roi_heads): RoIHeads(\n",
       "      (box_roi_pool): MultiScaleRoIAlign()\n",
       "      (box_head): TwoMLPHead(\n",
       "        (fc6): Linear(in_features=12544, out_features=1024, bias=True)\n",
       "        (fc7): Linear(in_features=1024, out_features=1024, bias=True)\n",
       "      )\n",
       "      (box_predictor): FastRCNNPredictor(\n",
       "        (cls_score): Linear(in_features=1024, out_features=2, bias=True)\n",
       "        (bbox_pred): Linear(in_features=1024, out_features=8, bias=True)\n",
       "      )\n",
       "    )\n",
       "  )\n",
       ")"
      ]
     },
     "execution_count": 18,
     "metadata": {},
     "output_type": "execute_result"
    }
   ],
   "source": [
    "ckpt = torch.load('path/to/log/latest.pt')\n",
    "model.load_state_dict(ckpt)\n",
    "model.eval()"
   ]
  },
  {
   "cell_type": "code",
   "execution_count": 19,
   "metadata": {},
   "outputs": [],
   "source": [
    "for i_batch, (x, y) in enumerate(test_loaders['test']):\n",
    "    break\n",
    "\n",
    "# n = np.random.randint(len(test_loaders['test']))\n",
    "# x, y = test_loaders['test'].dataset[n]"
   ]
  },
  {
   "cell_type": "code",
   "execution_count": 20,
   "metadata": {},
   "outputs": [],
   "source": [
    "y_pred, y = model(x)\n",
    "\n",
    "# Convert to numpy array for visualisation\n",
    "x = x[0][0]\n",
    "y_pred = y_pred[-1]\n",
    "y_pred = detach(y_pred)\n",
    "y = detach(y)"
   ]
  },
  {
   "cell_type": "code",
   "execution_count": 21,
   "metadata": {},
   "outputs": [
    {
     "data": {
      "image/png": "[encoded data removed]",
      "text/plain": [
       "<Figure size 432x288 with 1 Axes>"
      ]
     },
     "metadata": {
      "needs_background": "light"
     },
     "output_type": "display_data"
    },
    {
     "name": "stdout",
     "output_type": "stream",
     "text": [
      "Average precision values per class:\n",
      "\n",
      "1: 1.000000\n"
     ]
    }
   ],
   "source": [
    "# Read txt files containing bounding boxes (ground truth and detections)\n",
    "boundingboxes_gt = getBoundingBoxes(y)\n",
    "boundingboxes_det = getBoundingBoxes(y_pred, BBType.Detected)\n",
    "boundingboxes = BoundingBoxes()\n",
    "boundingboxes._boundingBoxes = boundingboxes_gt.getBoundingBoxes() + boundingboxes_det.getBoundingBoxes()\n",
    "# Create an evaluator object in order to obtain the metrics\n",
    "evaluator = Evaluator()\n",
    "\n",
    "evaluator.PlotPrecisionRecallCurve(\n",
    "    boundingboxes,  # Object containing all bounding boxes (ground truths and detections)\n",
    "    IOUThreshold=0.7,  # IOU threshold\n",
    "    method=MethodAveragePrecision.ElevenPointInterpolation,  # As the official matlab code\n",
    "    showAP=True,  # Show Average Precision in the title of the plot\n",
    "    showInterpolatedPrecision=True)  # Plot the interpolated precision curve\n",
    "# Get metrics with PASCAL VOC metrics\n",
    "metricsPerClass = evaluator.GetPascalVOCMetrics(\n",
    "    boundingboxes,  # Object containing all bounding boxes (ground truths and detections)\n",
    "    IOUThreshold=0.7,  # IOU threshold\n",
    "    method=MethodAveragePrecision.ElevenPointInterpolation)  # As the official matlab code\n",
    "print(\"Average precision values per class:\\n\")\n",
    "# Loop through classes to obtain their metrics\n",
    "dic = {}\n",
    "for mc in metricsPerClass:\n",
    "    # Get metric values per each class\n",
    "    c = mc['class']\n",
    "    precision = mc['precision']\n",
    "    recall = mc['recall']\n",
    "    average_precision = mc['AP']\n",
    "    ipre = mc['interpolated precision']\n",
    "    irec = mc['interpolated recall']\n",
    "    # Print AP per class\n",
    "    print('%s: %f' % (c, average_precision))\n",
    "    dic.update({c: average_precision})"
   ]
  },
  {
   "cell_type": "code",
   "execution_count": 22,
   "metadata": {},
   "outputs": [
    {
     "data": {
      "text/plain": [
       "<matplotlib.image.AxesImage at 0x7fccff44a6d0>"
      ]
     },
     "execution_count": 22,
     "metadata": {},
     "output_type": "execute_result"
    },
    {
     "data": {
      "image/png": "[encoded data removed]",
      "text/plain": [
       "<Figure size 432x288 with 1 Axes>"
      ]
     },
     "metadata": {
      "needs_background": "light"
     },
     "output_type": "display_data"
    }
   ],
   "source": [
    "img = x.detach().cpu().numpy()\n",
    "img = np.transpose(img, [1, 2, 0]) * 255\n",
    "img = img.astype('uint8')\n",
    "\n",
    "bbxes = y[0]['boxes']\n",
    "for bb in bbxes:\n",
    "#     if bb.getBBType() == BBType.GroundTruth:  # if ground truth\n",
    "    img = add_bb_into_image(img.copy(), bb, color=(0, 255, 0))  # green\n",
    "#     else:  # if detection\n",
    "#         image = add_bb_into_image(image, bb, color=(255, 0, 0))  # red\n",
    "\n",
    "scores = y_pred[0]['scores']\n",
    "bbxes = y_pred[0]['boxes']\n",
    "for bb, score in zip(bbxes, scores):\n",
    "    if score > 0.7:\n",
    "        img = add_bb_into_image(img.copy(), bb, color=(0, 0, 255))  # red\n",
    "\n",
    "# Green boxes: Ground Truth\n",
    "# Red boxes: Detection\n",
    "plt.imshow(img)"
   ]
  },
  {
   "cell_type": "code",
   "execution_count": null,
   "metadata": {},
   "outputs": [],
   "source": []
  }
 ],
 "metadata": {
  "kernelspec": {
   "display_name": "Python 3",
   "language": "python",
   "name": "python3"
  },
  "language_info": {
   "codemirror_mode": {
    "name": "ipython",
    "version": 3
   },
   "file_extension": ".py",
   "mimetype": "text/x-python",
   "name": "python",
   "nbconvert_exporter": "python",
   "pygments_lexer": "ipython3",
   "version": "3.7.7"
  }
 },
 "nbformat": 4,
 "nbformat_minor": 2
}
